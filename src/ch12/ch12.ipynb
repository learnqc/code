{
 "cells": [
  {
   "cell_type": "code",
   "id": "db739aa6-83ae-4a7e-9a55-6b300a388a50",
   "metadata": {
    "ExecuteTime": {
     "end_time": "2024-08-29T17:43:46.441790Z",
     "start_time": "2024-08-29T17:43:46.439029Z"
    }
   },
   "source": [
    "import sys;\n",
    "sys.path.insert(0, '..')"
   ],
   "outputs": [],
   "execution_count": 1
  },
  {
   "cell_type": "markdown",
   "id": "49d8b858-2a52-4af8-ba7a-df3abda47cd9",
   "metadata": {},
   "source": [
    "## Chapter 12 Code Snippets and Listings"
   ]
  },
  {
   "cell_type": "markdown",
   "id": "b2e5ed24-6e4e-425e-9189-c9d0010f7493",
   "metadata": {},
   "source": [
    "### Source-level compatibility between Hume and Qiskit (12.2.2)"
   ]
  },
  {
   "cell_type": "markdown",
   "id": "59f7c106-318f-4685-96ab-605543fd622d",
   "metadata": {},
   "source": [
    "In order to have source-level compatibility between Hume and Qiskit, we have enhanced Qiskit's `QuantumCircuit` class with the same functionality.\n",
    "We add the methods defined below in the file ./hume/qiskit/__init__.py in the book's companion repository.\n",
    "\n",
    "Note that you will need to install Qiskit in order to use Qiskit circuits."
   ]
  },
  {
   "cell_type": "markdown",
   "id": "514553a4-afdd-4596-b2fa-9f380d1ff3fe",
   "metadata": {},
   "source": [
    "Let's define and run a circuit using Hume:"
   ]
  },
  {
   "cell_type": "code",
   "id": "3ed3d430-31c8-45d2-838f-13508f43f323",
   "metadata": {
    "ExecuteTime": {
     "end_time": "2024-08-29T17:43:46.453173Z",
     "start_time": "2024-08-29T17:43:46.448120Z"
    }
   },
   "source": [
    "from math import pi\n",
    "\n",
    "def encode_value(n, v):\n",
    "    q = hume.QuantumRegister(n)\n",
    "    qc = hume.QuantumCircuit(q)\n",
    "    \n",
    "    for j in range(n):\n",
    "        qc.h(q[j])\n",
    "    \n",
    "    for j in range(n):\n",
    "        qc.p(2 * pi / 2 ** (n - j) * v, q[j])\n",
    "    \n",
    "    qc.iqft(q)\n",
    "    \n",
    "    return qc"
   ],
   "outputs": [],
   "execution_count": 2
  },
  {
   "cell_type": "code",
   "id": "0415e037-6eff-4356-b6cd-c09f014fcebc",
   "metadata": {
    "ExecuteTime": {
     "end_time": "2024-08-29T17:43:46.843393Z",
     "start_time": "2024-08-29T17:43:46.519443Z"
    }
   },
   "source": [
    "import hume"
   ],
   "outputs": [],
   "execution_count": 3
  },
  {
   "cell_type": "code",
   "id": "8fb313ec-8285-4b70-9db8-1ec124a7538f",
   "metadata": {
    "ExecuteTime": {
     "end_time": "2024-08-29T17:43:46.853410Z",
     "start_time": "2024-08-29T17:43:46.851308Z"
    }
   },
   "source": [
    "hume.QuantumRegister = hume.simulator.circuit.QuantumRegister\n",
    "hume.QuantumCircuit = hume.simulator.circuit.QuantumCircuit\n",
    "\n",
    "qc = encode_value(3, 4.7)\n",
    "print(type(qc))"
   ],
   "outputs": [
    {
     "name": "stdout",
     "output_type": "stream",
     "text": [
      "<class 'hume.simulator.circuit.QuantumCircuit'>\n"
     ]
    }
   ],
   "execution_count": 4
  },
  {
   "cell_type": "code",
   "id": "75e3980f-4c66-4022-9234-9d53e31d3302",
   "metadata": {
    "ExecuteTime": {
     "end_time": "2024-08-29T17:43:48.993268Z",
     "start_time": "2024-08-29T17:43:46.877256Z"
    }
   },
   "source": [
    "from util import print_state_table\n",
    "\n",
    "state_hume = qc.run()\n",
    "print_state_table(state_hume)"
   ],
   "outputs": [
    {
     "name": "stdout",
     "output_type": "stream",
     "text": [
      "\n",
      "Outcome  Binary  Amplitude           Magnitude  Direction  Amplitude Bar             Probability\n",
      "------------------------------------------------------------------------------------------------\n",
      "0        000     0.0986 + i0.0364    0.1051       20.26°   \u001B[38;2;251;107;2m██                      \u001B[39m  0.011 \n",
      "1        001     0.0748 + i0.0691    0.1018       42.73°   \u001B[38;2;255;172;0m██                      \u001B[39m  0.0104\n",
      "2        010     0.0485 + i0.1053    0.1159       65.27°   \u001B[38;2;232;209;0m██                      \u001B[39m  0.0134\n",
      "3        011     0.0064 + i0.1632    0.1633       87.75°   \u001B[38;2;162;188;0m███                     \u001B[39m  0.0267\n",
      "4        100    -0.1289 + i0.3495    0.3726      110.24°   \u001B[38;2;85;158;13m████████                \u001B[39m  0.1388\n",
      "5        101     0.5840 - i0.6318    0.8604      -47.75°   \u001B[38;2;255;168;191m████████████████████    \u001B[39m  0.7403\n",
      "6        110     0.1880 - i0.0866    0.207       -24.27°   \u001B[38;2;255;108;104m████                    \u001B[39m  0.0428\n",
      "7        111     0.1287 - i0.0051    0.1288       -2.73°   \u001B[38;2;247;53;32m███                     \u001B[39m  0.0166\n",
      "\n"
     ]
    }
   ],
   "execution_count": 5
  },
  {
   "cell_type": "markdown",
   "id": "f74f44ca-fa4e-4163-aad3-952485fec406",
   "metadata": {},
   "source": [
    "Now, we can run the same circuit using Qiskit:"
   ]
  },
  {
   "cell_type": "code",
   "id": "0d5a2db7-587c-45e3-a544-212f194d7a16",
   "metadata": {
    "ExecuteTime": {
     "end_time": "2024-08-29T17:43:49.222004Z",
     "start_time": "2024-08-29T17:43:49.020775Z"
    }
   },
   "source": [
    "import qiskit\n",
    "import hume.qiskit\n",
    "hume.QuantumRegister = qiskit.QuantumRegister\n",
    "hume.QuantumCircuit = qiskit.QuantumCircuit\n",
    "\n",
    "qc = encode_value(3, 4.7)\n",
    "\n",
    "print(type(qc))"
   ],
   "outputs": [
    {
     "name": "stdout",
     "output_type": "stream",
     "text": [
      "<class 'qiskit.circuit.quantumcircuit.QuantumCircuit'>\n"
     ]
    }
   ],
   "execution_count": 6
  },
  {
   "cell_type": "code",
   "id": "5e107411-ea3a-4aa1-9314-83bdd6a1bc07",
   "metadata": {
    "ExecuteTime": {
     "end_time": "2024-08-29T17:43:49.250597Z",
     "start_time": "2024-08-29T17:43:49.246865Z"
    }
   },
   "source": [
    "state_qiskit = qc.run()\n",
    "print_state_table(state_qiskit)"
   ],
   "outputs": [
    {
     "name": "stdout",
     "output_type": "stream",
     "text": [
      "\n",
      "Outcome  Binary  Amplitude           Magnitude  Direction  Amplitude Bar             Probability\n",
      "------------------------------------------------------------------------------------------------\n",
      "0        000     0.0986 + i0.0364    0.1051       20.26°   \u001B[38;2;251;107;2m██                      \u001B[39m  0.011 \n",
      "1        001     0.0748 + i0.0691    0.1018       42.73°   \u001B[38;2;255;172;0m██                      \u001B[39m  0.0104\n",
      "2        010     0.0485 + i0.1053    0.1159       65.27°   \u001B[38;2;232;209;0m██                      \u001B[39m  0.0134\n",
      "3        011     0.0064 + i0.1632    0.1633       87.75°   \u001B[38;2;162;188;0m███                     \u001B[39m  0.0267\n",
      "4        100    -0.1289 + i0.3495    0.3726      110.24°   \u001B[38;2;85;158;13m████████                \u001B[39m  0.1388\n",
      "5        101     0.5840 - i0.6318    0.8604      -47.75°   \u001B[38;2;255;168;191m████████████████████    \u001B[39m  0.7403\n",
      "6        110     0.1880 - i0.0866    0.207       -24.27°   \u001B[38;2;255;108;104m████                    \u001B[39m  0.0428\n",
      "7        111     0.1287 - i0.0051    0.1288       -2.73°   \u001B[38;2;247;53;32m███                     \u001B[39m  0.0166\n",
      "\n"
     ]
    }
   ],
   "execution_count": 7
  },
  {
   "cell_type": "markdown",
   "id": "4f5fa18b-41ef-4d0f-93be-91318ee58361",
   "metadata": {},
   "source": [
    "Check that the results match:"
   ]
  },
  {
   "cell_type": "code",
   "id": "880966ee-b145-43e6-9963-460e18956368",
   "metadata": {
    "ExecuteTime": {
     "end_time": "2024-08-29T17:43:49.320533Z",
     "start_time": "2024-08-29T17:43:49.318554Z"
    }
   },
   "source": [
    "from util import all_close\n",
    "assert all_close(state_hume, state_qiskit)"
   ],
   "outputs": [],
   "execution_count": 8
  },
  {
   "cell_type": "code",
   "id": "a1e3c3236638fb97",
   "metadata": {
    "ExecuteTime": {
     "end_time": "2024-08-29T17:43:49.339859Z",
     "start_time": "2024-08-29T17:43:49.337903Z"
    }
   },
   "source": [
    "hume.QuantumRegister = hume.simulator.circuit.QuantumRegister\n",
    "hume.QuantumCircuit = hume.simulator.circuit.QuantumCircuit"
   ],
   "outputs": [],
   "execution_count": 9
  },
  {
   "cell_type": "markdown",
   "id": "675f6c24-c5d0-4bbc-a00c-b355bebf7499",
   "metadata": {},
   "source": [
    "### Running on real quantum hardware (12.2.3)\n",
    "\n",
    "The code for this section can be found in this [notebook](../ibmq/ibmq_experiments_sampler.ipynb)."
   ]
  },
  {
   "cell_type": "markdown",
   "id": "e60b0b18-8ec5-4746-a26f-83aa845c5158",
   "metadata": {},
   "source": [
    "### Another look at single-qubit gates and the butterfly pattern (12.3.1)"
   ]
  },
  {
   "cell_type": "markdown",
   "id": "d881b277-53b9-47b8-b326-cc28bec27e5d",
   "metadata": {},
   "source": [
    "Given a quantum system with $n \\ge 1$ qubits, a target qubit $t$, where $1 \\le t \\le n$, and a single-qubit gate represented by a $2 \\times 2$ (unitary) matrix\n",
    "\n",
    "$$U = \\begin{bmatrix}a & b \\\\ c & d \\end{bmatrix}$$\n",
    "\n",
    "the effect of the gate on the state of the quantum system can be described as follows.\n",
    "First, we identify the pairs of amplitudes to be recombined based on the target qubit.\n",
    "In the code below, we create a two-row matrix with the amplitudes of each pair.\n"
   ]
  },
  {
   "cell_type": "code",
   "id": "8611e027-6595-493d-b012-8eb27eb00fbf",
   "metadata": {
    "ExecuteTime": {
     "end_time": "2024-08-29T17:43:49.356946Z",
     "start_time": "2024-08-29T17:43:49.354892Z"
    }
   },
   "source": [
    "import numpy as np\n",
    "\n",
    "def get_two_row_matrix_from_state(state, t):\n",
    "    stride = 2**t\n",
    "\n",
    "    chunks = np.array_split(state, int(len(state)/stride))\n",
    "    evens = np.concatenate(chunks[0::2])\n",
    "    odds = np.concatenate(chunks[1::2])\n",
    "\n",
    "    return np.stack((evens, odds))"
   ],
   "outputs": [],
   "execution_count": 10
  },
  {
   "cell_type": "markdown",
   "id": "5d3f710e-77b9-40c7-9a00-8fe77b04fc97",
   "metadata": {},
   "source": [
    "If we denote this matrix by $A_t$, then the effect of the gate on the amplitudes can be described by\n",
    "\n",
    "$$U A_t.$$\n",
    "\n",
    "Then, we put the amplitudes back in the original order:"
   ]
  },
  {
   "cell_type": "code",
   "id": "f4f87f62-3b10-48e3-b42a-5dde89ef4ceb",
   "metadata": {
    "ExecuteTime": {
     "end_time": "2024-08-29T17:43:49.363923Z",
     "start_time": "2024-08-29T17:43:49.362252Z"
    }
   },
   "source": [
    "def get_state_from_two_row_matrix(matrix_state, t):\n",
    "    chunk_size = int(matrix_state.shape[1] / 2**t)\n",
    "\n",
    "    chunks_0 = np.array_split(matrix_state[0], chunk_size)\n",
    "    chunks_1 = np.array_split(matrix_state[1], chunk_size)\n",
    "    return np.hstack((chunks_0, chunks_1)).flatten()"
   ],
   "outputs": [],
   "execution_count": 11
  },
  {
   "cell_type": "markdown",
   "id": "51664448-0bbd-482b-9922-5dab0264edc0",
   "metadata": {},
   "source": [
    "For a unitary matrix $U$ of size $2^m \\times 2^m$ that is applied to $m > 0$ target qubits, the conversion functions are:"
   ]
  },
  {
   "cell_type": "code",
   "id": "7ecddd17-e353-4b9a-ae2f-aa6d23ddd03c",
   "metadata": {
    "ExecuteTime": {
     "end_time": "2024-08-29T17:43:49.371810Z",
     "start_time": "2024-08-29T17:43:49.369325Z"
    }
   },
   "source": [
    "def get_matrix_state(state, t, m):\n",
    "    n = int(np.log2(len(state)))\n",
    "    o_dim = 2**(n-m)\n",
    "    u_dim = 2**m\n",
    "    stride = 2**t\n",
    "\n",
    "    matrix_state = np.zeros((u_dim, o_dim), dtype=complex)\n",
    "\n",
    "    for remainder in range(stride):\n",
    "        for idx in range(u_dim):\n",
    "            matrix_state[idx, remainder::stride] = state[remainder + idx * stride::u_dim*stride]\n",
    "\n",
    "    return matrix_state\n",
    "\n",
    "def get_state_from_matrix(matrix_state, t, m):\n",
    "    n = int(np.log2(matrix_state.shape[0] * matrix_state.shape[1]))\n",
    "\n",
    "    u_dim = 2**m\n",
    "    stride = 2**t\n",
    "\n",
    "    state = np.zeros(2**n, dtype=complex)\n",
    "\n",
    "    for remainder in range(stride):\n",
    "        for idx in range(u_dim):\n",
    "            state[idx * stride + remainder::u_dim*stride] = matrix_state[idx, remainder::stride]\n",
    "\n",
    "    return state"
   ],
   "outputs": [],
   "execution_count": 12
  },
  {
   "cell_type": "markdown",
   "id": "fcfbfd1f-02c1-4e76-88e9-02ac794c368f",
   "metadata": {},
   "source": [
    "Let's use these functions to simulate applying a unitary transformation (represented by a $4 \\times 4$ unitary matrix) of a state a randomly generated state with $n = 3$ qubits:"
   ]
  },
  {
   "cell_type": "code",
   "id": "72f98834-72c7-41f4-b14a-f6c3848d7643",
   "metadata": {
    "ExecuteTime": {
     "end_time": "2024-08-29T17:43:49.380745Z",
     "start_time": "2024-08-29T17:43:49.378268Z"
    }
   },
   "source": [
    "from hume.utils.common import print_state_table, generate_state\n",
    "from hume.utils.matrix import rvs\n",
    "\n",
    "n = 3\n",
    "t = 1\n",
    "m = 2\n",
    "\n",
    "state = generate_state(n)\n",
    "\n",
    "U = rvs(2**m)\n",
    "\n",
    "matrix = get_matrix_state(state.copy(), t, m)\n",
    "s1 = get_state_from_matrix(U@matrix, t, m)"
   ],
   "outputs": [],
   "execution_count": 13
  },
  {
   "cell_type": "code",
   "id": "d0f26618-a94f-4dde-a4f2-7f62be9634dd",
   "metadata": {
    "ExecuteTime": {
     "end_time": "2024-08-29T17:43:49.389692Z",
     "start_time": "2024-08-29T17:43:49.386541Z"
    }
   },
   "source": [
    "print_state_table(s1)"
   ],
   "outputs": [
    {
     "name": "stdout",
     "output_type": "stream",
     "text": [
      "\n",
      "Outcome  Binary  Amplitude           Magnitude  Direction  Amplitude Bar             Probability\n",
      "------------------------------------------------------------------------------------------------\n",
      "0        000     0.3846 + i0.2189    0.4425       29.65°   \u001B[38;2;254;137;0m██████████              \u001B[39m  0.1958\n",
      "1        001    -0.1127 - i0.0520    0.1241     -155.77°   \u001B[38;2;49;193;255m██                      \u001B[39m  0.0154\n",
      "2        010    -0.0897 - i0.1978    0.2171     -114.61°   \u001B[38;2;83;128;255m█████                   \u001B[39m  0.0472\n",
      "3        011    -0.0429 - i0.0036    0.0431     -175.80°   \u001B[38;2;38;229;242m█                       \u001B[39m  0.0019\n",
      "4        100     0.0195 + i0.0653    0.0682       73.37°   \u001B[38;2;208;205;0m█                       \u001B[39m  0.0046\n",
      "5        101    -0.6623 - i0.3130    0.7325     -154.30°   \u001B[38;2;49;193;255m█████████████████       \u001B[39m  0.5366\n",
      "6        110    -0.1506 - i0.3509    0.3819     -113.77°   \u001B[38;2;88;129;255m█████████               \u001B[39m  0.1458\n",
      "7        111    -0.1786 + i0.1443    0.2296      141.60°   \u001B[38;2;46;176;100m█████                   \u001B[39m  0.0527\n",
      "\n"
     ]
    }
   ],
   "execution_count": 14
  },
  {
   "cell_type": "markdown",
   "id": "78f397d5-500a-46ab-aecf-f2722a631069",
   "metadata": {},
   "source": [
    "Now, let's apply the same transformation to the same state using our `QuantumCircuit` class:"
   ]
  },
  {
   "cell_type": "code",
   "id": "8b3aa416-4d08-4d84-91fe-cc82dda7f9ad",
   "metadata": {
    "ExecuteTime": {
     "end_time": "2024-08-29T17:43:49.408845Z",
     "start_time": "2024-08-29T17:43:49.406773Z"
    }
   },
   "source": [
    "from hume.simulator.circuit import QuantumRegister\n",
    "from hume.simulator.circuit import QuantumCircuit\n",
    "\n",
    "q = QuantumRegister(3)\n",
    "qc = QuantumCircuit(q)\n",
    "qc.initialize(state.copy())\n",
    "qc.unitary(U, t)\n",
    "\n",
    "s2 = qc.run()"
   ],
   "outputs": [],
   "execution_count": 15
  },
  {
   "cell_type": "code",
   "id": "51e1a213-2578-4fd3-9094-817917829eb3",
   "metadata": {
    "ExecuteTime": {
     "end_time": "2024-08-29T17:43:49.420350Z",
     "start_time": "2024-08-29T17:43:49.417621Z"
    }
   },
   "source": [
    "print_state_table(s2)"
   ],
   "outputs": [
    {
     "name": "stdout",
     "output_type": "stream",
     "text": [
      "\n",
      "Outcome  Binary  Amplitude           Magnitude  Direction  Amplitude Bar             Probability\n",
      "------------------------------------------------------------------------------------------------\n",
      "0        000     0.3846 + i0.2189    0.4425       29.65°   \u001B[38;2;254;137;0m██████████              \u001B[39m  0.1958\n",
      "1        001    -0.1127 - i0.0520    0.1241     -155.77°   \u001B[38;2;49;193;255m██                      \u001B[39m  0.0154\n",
      "2        010    -0.0897 - i0.1978    0.2171     -114.61°   \u001B[38;2;83;128;255m█████                   \u001B[39m  0.0472\n",
      "3        011    -0.0429 - i0.0036    0.0431     -175.80°   \u001B[38;2;38;229;242m█                       \u001B[39m  0.0019\n",
      "4        100     0.0195 + i0.0653    0.0682       73.37°   \u001B[38;2;208;205;0m█                       \u001B[39m  0.0046\n",
      "5        101    -0.6623 - i0.3130    0.7325     -154.30°   \u001B[38;2;49;193;255m█████████████████       \u001B[39m  0.5366\n",
      "6        110    -0.1506 - i0.3509    0.3819     -113.77°   \u001B[38;2;88;129;255m█████████               \u001B[39m  0.1458\n",
      "7        111    -0.1786 + i0.1443    0.2296      141.60°   \u001B[38;2;46;176;100m█████                   \u001B[39m  0.0527\n",
      "\n"
     ]
    }
   ],
   "execution_count": 16
  },
  {
   "cell_type": "markdown",
   "id": "acc4975d-b178-4531-abce-91acde2a1bbb",
   "metadata": {},
   "source": [
    "Check that they match:"
   ]
  },
  {
   "cell_type": "code",
   "id": "8ca1dd77-f0f7-46de-95ea-2c77efa5f0e2",
   "metadata": {
    "ExecuteTime": {
     "end_time": "2024-08-29T17:43:49.439096Z",
     "start_time": "2024-08-29T17:43:49.437193Z"
    }
   },
   "source": [
    "assert all_close(s1, s2)"
   ],
   "outputs": [],
   "execution_count": 17
  },
  {
   "cell_type": "markdown",
   "id": "e308e6e1-a824-4e50-ad88-84b9bb3b6f9b",
   "metadata": {},
   "source": [
    "### Quantum states as an image (12.4)"
   ]
  },
  {
   "cell_type": "markdown",
   "id": "97958be6-a1f8-4d5d-9406-f40270ec2c15",
   "metadata": {},
   "source": [
    "The function defined below creates the pixel state visualization shown in the chapter:"
   ]
  },
  {
   "cell_type": "code",
   "id": "a2de49e1c05b5911",
   "metadata": {
    "ExecuteTime": {
     "end_time": "2024-08-29T17:43:49.455485Z",
     "start_time": "2024-08-29T17:43:49.452702Z"
    }
   },
   "source": [
    "from hume.utils.common import complex_to_rgb\n",
    "\n",
    "from PIL import Image\n",
    "\n",
    "def state_to_pixels(s, cols=1, neg=False):\n",
    "    global counter\n",
    "    counter = 0\n",
    "    rows = int(len(s) / cols)\n",
    "\n",
    "\n",
    "    img = Image.new('RGBA', (cols, rows))\n",
    "    pixels = img.load()\n",
    "\n",
    "    idx =  list(range(int(rows/2), rows)) + list(range(int(rows/2)))\n",
    "    for l in range(cols):\n",
    "        for k in range(rows):\n",
    "            c = s[idx[k]*cols + l] if neg else s[k*cols + l]\n",
    "            rgb = complex_to_rgb(c, True)\n",
    "            intensity = int(abs(c)*255)\n",
    "            if intensity > 0:\n",
    "                pixels[l, rows-1-k if neg else k] = (rgb[0], rgb[1], rgb[2], intensity)  # set the colour accordingly\n",
    "            else:\n",
    "                pixels[l, rows-1-k if neg else k] = (0, 0, 0, 10)\n",
    "\n",
    "    factor_c = 15\n",
    "    factor_r = 15\n",
    "    img = img.resize((factor_c*cols, factor_r*rows), resample=0)\n",
    "\n",
    "    return img    "
   ],
   "outputs": [],
   "execution_count": 18
  },
  {
   "cell_type": "markdown",
   "id": "efce76d7-b2d5-480b-91ab-dfcfdbcf4f47",
   "metadata": {},
   "source": [
    "Let's look at some example 3-qubit states:"
   ]
  },
  {
   "cell_type": "code",
   "id": "1ce393bb9c37af3c",
   "metadata": {
    "ExecuteTime": {
     "end_time": "2024-08-29T17:43:49.461637Z",
     "start_time": "2024-08-29T17:43:49.460071Z"
    }
   },
   "source": [
    "n = 2\n",
    "m = 1\n",
    "\n",
    "N = 2**n\n",
    "M = 2**m "
   ],
   "outputs": [],
   "execution_count": 19
  },
  {
   "cell_type": "code",
   "id": "55f90c2eff4e5a06",
   "metadata": {
    "ExecuteTime": {
     "end_time": "2024-08-29T17:43:49.468748Z",
     "start_time": "2024-08-29T17:43:49.467002Z"
    }
   },
   "source": [
    "from hume.simulator.core import init_state\n",
    "state = init_state(n+m)  "
   ],
   "outputs": [],
   "execution_count": 20
  },
  {
   "cell_type": "markdown",
   "id": "1bb9134b-34f9-41ee-9a5c-d8e35f1dd516",
   "metadata": {},
   "source": [
    "The initial state as an array of pixels:"
   ]
  },
  {
   "cell_type": "code",
   "id": "7296b6adaba70baf",
   "metadata": {
    "ExecuteTime": {
     "end_time": "2024-08-29T17:43:49.494104Z",
     "start_time": "2024-08-29T17:43:49.478759Z"
    }
   },
   "source": [
    "display(state_to_pixels(state, N*M))"
   ],
   "outputs": [
    {
     "data": {
      "text/plain": [
       "<PIL.Image.Image image mode=RGBA size=120x15>"
      ],
      "image/png": "[encoded data removed]"
     },
     "metadata": {},
     "output_type": "display_data"
    }
   ],
   "execution_count": 21
  },
  {
   "cell_type": "markdown",
   "id": "6bf830d4-5d4a-45e9-aada-e2db430af26a",
   "metadata": {},
   "source": [
    "The initial state as an array of pixels, partitioned at qubit 2:"
   ]
  },
  {
   "cell_type": "code",
   "id": "9a33ea063ebbd21b",
   "metadata": {
    "ExecuteTime": {
     "end_time": "2024-08-29T17:43:49.515581Z",
     "start_time": "2024-08-29T17:43:49.512559Z"
    }
   },
   "source": [
    "display(state_to_pixels(state, N))"
   ],
   "outputs": [
    {
     "data": {
      "text/plain": [
       "<PIL.Image.Image image mode=RGBA size=60x30>"
      ],
      "image/png": "[encoded data removed]"
     },
     "metadata": {},
     "output_type": "display_data"
    }
   ],
   "execution_count": 22
  },
  {
   "cell_type": "markdown",
   "id": "e8f96c65-a77a-46f7-977a-8fe5182781b8",
   "metadata": {},
   "source": [
    "Let's look at a random state:"
   ]
  },
  {
   "cell_type": "code",
   "id": "1e8a7eb01babf49c",
   "metadata": {
    "ExecuteTime": {
     "end_time": "2024-08-29T17:43:49.532621Z",
     "start_time": "2024-08-29T17:43:49.531004Z"
    }
   },
   "source": [
    "state = generate_state(n+m)  "
   ],
   "outputs": [],
   "execution_count": 23
  },
  {
   "cell_type": "code",
   "id": "48167d5811a78c80",
   "metadata": {
    "ExecuteTime": {
     "end_time": "2024-08-29T17:43:49.540761Z",
     "start_time": "2024-08-29T17:43:49.537756Z"
    }
   },
   "source": [
    "display(state_to_pixels(state, N*M))"
   ],
   "outputs": [
    {
     "data": {
      "text/plain": [
       "<PIL.Image.Image image mode=RGBA size=120x15>"
      ],
      "image/png": "[encoded data removed]"
     },
     "metadata": {},
     "output_type": "display_data"
    }
   ],
   "execution_count": 24
  },
  {
   "cell_type": "code",
   "id": "5429f1a1e8ab6bb0",
   "metadata": {
    "ExecuteTime": {
     "end_time": "2024-08-29T17:43:49.565483Z",
     "start_time": "2024-08-29T17:43:49.562351Z"
    }
   },
   "source": [
    "display(state_to_pixels(state, N))"
   ],
   "outputs": [
    {
     "data": {
      "text/plain": [
       "<PIL.Image.Image image mode=RGBA size=60x30>"
      ],
      "image/png": "[encoded data removed]"
     },
     "metadata": {},
     "output_type": "display_data"
    }
   ],
   "execution_count": 25
  },
  {
   "cell_type": "markdown",
   "id": "7eae06ca-5f42-4f48-a603-9120c110aa6a",
   "metadata": {},
   "source": [
    "Example with 4-qubit state:"
   ]
  },
  {
   "cell_type": "code",
   "id": "e61224d8ff851376",
   "metadata": {
    "ExecuteTime": {
     "end_time": "2024-08-29T17:43:49.587183Z",
     "start_time": "2024-08-29T17:43:49.585399Z"
    }
   },
   "source": [
    "n = 2\n",
    "m = 2\n",
    "\n",
    "N = 2**n\n",
    "M = 2**m"
   ],
   "outputs": [],
   "execution_count": 26
  },
  {
   "cell_type": "code",
   "id": "f63b78730d007ff6",
   "metadata": {
    "ExecuteTime": {
     "end_time": "2024-08-29T17:43:49.599387Z",
     "start_time": "2024-08-29T17:43:49.597587Z"
    }
   },
   "source": [
    "state = generate_state(n+m)"
   ],
   "outputs": [],
   "execution_count": 27
  },
  {
   "cell_type": "code",
   "id": "b25ecd9d5597b74",
   "metadata": {
    "ExecuteTime": {
     "end_time": "2024-08-29T17:43:49.609151Z",
     "start_time": "2024-08-29T17:43:49.605397Z"
    }
   },
   "source": [
    "display(state_to_pixels(state, N*M))"
   ],
   "outputs": [
    {
     "data": {
      "text/plain": [
       "<PIL.Image.Image image mode=RGBA size=240x15>"
      ],
      "image/png": "[encoded data removed]"
     },
     "metadata": {},
     "output_type": "display_data"
    }
   ],
   "execution_count": 28
  },
  {
   "cell_type": "code",
   "id": "9b918fdeebec46a1",
   "metadata": {
    "ExecuteTime": {
     "end_time": "2024-08-29T17:43:49.626170Z",
     "start_time": "2024-08-29T17:43:49.622268Z"
    }
   },
   "source": [
    "display(state_to_pixels(state, N))"
   ],
   "outputs": [
    {
     "data": {
      "text/plain": [
       "<PIL.Image.Image image mode=RGBA size=60x60>"
      ],
      "image/png": "[encoded data removed]"
     },
     "metadata": {},
     "output_type": "display_data"
    }
   ],
   "execution_count": 29
  },
  {
   "cell_type": "markdown",
   "id": "10aaa641-50d4-48e7-ad76-15dc69266f30",
   "metadata": {},
   "source": [
    "### Visualizing quantum state evolution (12.4.1)"
   ]
  },
  {
   "cell_type": "markdown",
   "id": "ac9006f5-f5af-4d6b-b316-6a993495a70a",
   "metadata": {},
   "source": [
    "Following is code to visualize several steps of a circuit that encodes the given polynomial in a quantum state:"
   ]
  },
  {
   "cell_type": "code",
   "id": "dfb3c750f544d7c9",
   "metadata": {
    "ExecuteTime": {
     "end_time": "2024-08-29T17:43:49.650244Z",
     "start_time": "2024-08-29T17:43:49.647928Z"
    }
   },
   "source": [
    "def combine_images(imgs):\n",
    "    widths, heights = zip(*(im.size for im in imgs))\n",
    "    \n",
    "    space = 10\n",
    "\n",
    "    total_width = sum(widths) + 10*(len(imgs) - 1)\n",
    "    max_height = max(heights) + 10*(len(imgs) - 1)\n",
    "\n",
    "    img = Image.new('RGB', (total_width, max_height), 'white')\n",
    "\n",
    "    x = 0\n",
    "    for im in imgs:\n",
    "        img.paste(im, (x, 0))\n",
    "        x += im.size[0] + space\n",
    "\n",
    "    return img"
   ],
   "outputs": [],
   "execution_count": 30
  },
  {
   "cell_type": "code",
   "id": "3b08877d4f5ca990",
   "metadata": {
    "ExecuteTime": {
     "end_time": "2024-08-29T17:43:49.775325Z",
     "start_time": "2024-08-29T17:43:49.659184Z"
    }
   },
   "source": [
    "from hume.algos.function_encoding import build_polynomial_circuit\n",
    "\n",
    "n = 3\n",
    "N = 2**n\n",
    "m = 5\n",
    "\n",
    "terms = [(8, [2]), (8, [1]), (5, [0]), (-16, [1, 2]), (-8, [0, 2]), (-4, [0, 1]), (-6, [])]\n",
    "\n",
    "qc = build_polynomial_circuit(n, m, terms)\n",
    "print(type(qc))\n",
    "\n",
    "t = len(terms)\n",
    "assert len(qc.transformations) == n + (t + 2)*m + m*(m - 1 )/2\n",
    "\n",
    "screens = []\n",
    "for idx, (tr, state) in enumerate(qc.run_and_yield()):\n",
    "    if idx in [0, 11, 16, 36, 45, 51, 57, 58]:\n",
    "        screens.append(state_to_pixels(state, N, True))\n",
    "\n",
    "display(combine_images(screens[:len(screens)//2]))\n",
    "display(combine_images(screens[len(screens)//2:]))"
   ],
   "outputs": [
    {
     "name": "stdout",
     "output_type": "stream",
     "text": [
      "<class 'hume.simulator.circuit.QuantumCircuit'>\n"
     ]
    },
    {
     "data": {
      "text/plain": [
       "<PIL.Image.Image image mode=RGB size=510x510>"
      ],
      "image/png": "[encoded data removed]",
      "image/jpeg": "[encoded data removed]"
     },
     "metadata": {},
     "output_type": "display_data"
    },
    {
     "data": {
      "text/plain": [
       "<PIL.Image.Image image mode=RGB size=510x510>"
      ],
      "image/png": "[encoded data removed]",
      "image/jpeg": "[encoded data removed]"
     },
     "metadata": {},
     "output_type": "display_data"
    }
   ],
   "execution_count": 31
  },
  {
   "cell_type": "markdown",
   "id": "a6222e2f-8964-4475-abc4-4c1ec348aab5",
   "metadata": {},
   "source": [
    "### Encoding polynomials with non-integer coefficients (12.5.1)"
   ]
  },
  {
   "cell_type": "markdown",
   "id": "0f38fd08-c727-405a-881b-161c9a2cf663",
   "metadata": {},
   "source": [
    "Even though we have been using polynomial functions with integer coefficients in our optimization examples, the polynomial encoding method can handle non-integer coefficients.\n",
    "Instead of a single value, each input will have a corresponding discrete-sinc distribution encoding its corresponding output.\n",
    "Let's look at the concrete example of the function\n",
    "\n",
    "$$f(k) = 0.4 k^2 - 2.3$$\n",
    "\n",
    "defined for $0 \\le k < 4$.\n",
    "\n",
    "The code below encodes this function in a quantum state:"
   ]
  },
  {
   "cell_type": "code",
   "id": "a21c7fa39056f2ae",
   "metadata": {
    "ExecuteTime": {
     "end_time": "2024-08-29T17:43:49.785593Z",
     "start_time": "2024-08-29T17:43:49.783048Z"
    }
   },
   "source": [
    "from hume.algos.function_encoding import build_polynomial_circuit\n",
    "\n",
    "n_key = 2\n",
    "n_value = 4\n",
    "neg = True\n",
    "\n",
    "coeffs = [(-2.3, [])] + [(0.4*2**(j+k), ([j, k] if j != k else [j]))  for j in range(n_key) for k in range(n_key)] # squares\n",
    "\n",
    "function = build_polynomial_circuit(n_key, n_value, coeffs)\n",
    "state = function.run()"
   ],
   "outputs": [],
   "execution_count": 32
  },
  {
   "cell_type": "code",
   "id": "660b382b9bfa8e92",
   "metadata": {
    "ExecuteTime": {
     "end_time": "2024-08-29T17:43:49.802356Z",
     "start_time": "2024-08-29T17:43:49.793307Z"
    }
   },
   "source": [
    "from util import grid_state\n",
    "\n",
    "grid_state(state, n_key, True, False)"
   ],
   "outputs": [
    {
     "name": "stdout",
     "output_type": "stream",
     "text": [
      "\n",
      "\n",
      "╒═══════════╤══════════╤══════════╤══════════╤══════════╕\n",
      "│           │ 0 = 00   │ 1 = 01   │ 2 = 10   │ 3 = 11   │\n",
      "╞═══════════╪══════════╪══════════╪══════════╪══════════╡\n",
      "│ 7 = 0111  │ \u001B[48;2;254;193;0m\u001B[49m         │ \u001B[48;2;250;190;238m\u001B[49m         │ \u001B[48;2;255;148;158m\u001B[49m         │ \u001B[48;2;250;190;238m\u001B[49m         │\n",
      "├───────────┼──────────┼──────────┼──────────┼──────────┤\n",
      "│ 6 = 0110  │ \u001B[48;2;255;165;0m\u001B[49m         │ \u001B[48;2;223;186;255m\u001B[49m         │ \u001B[48;2;255;175;202m\u001B[49m         │ \u001B[48;2;223;186;255m\u001B[49m         │\n",
      "├───────────┼──────────┼──────────┼──────────┼──────────┤\n",
      "│ 5 = 0101  │ \u001B[48;2;254;133;0m\u001B[49m         │ \u001B[48;2;191;170;255m\u001B[49m         │ \u001B[48;2;250;190;238m\u001B[49m         │ \u001B[48;2;191;170;255m\u001B[49m         │\n",
      "├───────────┼──────────┼──────────┼──────────┼──────────┤\n",
      "│ 4 = 0100  │ \u001B[48;2;250;98;4m\u001B[49m         │ \u001B[48;2;157;152;255m\u001B[49m         │ \u001B[48;2;223;186;255m\u001B[49m         │ \u001B[48;2;157;152;255m\u001B[49m         │\n",
      "├───────────┼──────────┼──────────┼──────────┼──────────┤\n",
      "│ 3 = 0011  │ \u001B[48;2;247;64;16m\u001B[49m         │ \u001B[48;2;116;136;255m\u001B[49m         │ \u001B[48;2;191;170;255m\u001B[49m         │ \u001B[48;2;116;136;255m\u001B[49m         │\n",
      "├───────────┼──────────┼──────────┼──────────┼──────────┤\n",
      "│ 2 = 0010  │ \u001B[48;2;248;56;39m\u001B[49m         │ \u001B[48;2;72;128;255m\u001B[49m         │ \u001B[48;2;157;152;255m\u001B[49m         │ \u001B[48;2;72;128;255m \u001B[49m        │\n",
      "├───────────┼──────────┼──────────┼──────────┼──────────┤\n",
      "│ 1 = 0001  │ \u001B[48;2;255;84;74m\u001B[49m         │ \u001B[48;2;41;138;255m\u001B[49m         │ \u001B[48;2;116;136;255m\u001B[49m         │ \u001B[48;2;254;193;0m    \u001B[49m     │\n",
      "├───────────┼──────────┼──────────┼──────────┼──────────┤\n",
      "│ 0 = 0000  │ \u001B[48;2;255;117;115m\u001B[49m         │ \u001B[48;2;43;160;255m\u001B[49m         │ \u001B[48;2;72;128;255m \u001B[49m        │ \u001B[48;2;255;165;0m \u001B[49m        │\n",
      "├───────────┼──────────┼──────────┼──────────┼──────────┤\n",
      "│ -1 = 1111 │ \u001B[48;2;255;148;158m \u001B[49m        │ \u001B[48;2;49;184;255m\u001B[49m         │ \u001B[48;2;254;193;0m    \u001B[49m     │ \u001B[48;2;254;133;0m\u001B[49m         │\n",
      "├───────────┼──────────┼──────────┼──────────┼──────────┤\n",
      "│ -2 = 1110 │ \u001B[48;2;255;175;202m    \u001B[49m     │ \u001B[48;2;250;98;4m    \u001B[49m     │ \u001B[48;2;255;165;0m \u001B[49m        │ \u001B[48;2;250;98;4m\u001B[49m         │\n",
      "├───────────┼──────────┼──────────┼──────────┼──────────┤\n",
      "│ -3 = 1101 │ \u001B[48;2;60;153;30m \u001B[49m        │ \u001B[48;2;247;64;16m\u001B[49m         │ \u001B[48;2;254;133;0m\u001B[49m         │ \u001B[48;2;247;64;16m\u001B[49m         │\n",
      "├───────────┼──────────┼──────────┼──────────┼──────────┤\n",
      "│ -4 = 1100 │ \u001B[48;2;95;161;9m\u001B[49m         │ \u001B[48;2;248;56;39m\u001B[49m         │ \u001B[48;2;250;98;4m\u001B[49m         │ \u001B[48;2;248;56;39m\u001B[49m         │\n",
      "├───────────┼──────────┼──────────┼──────────┼──────────┤\n",
      "│ -5 = 1011 │ \u001B[48;2;134;176;1m\u001B[49m         │ \u001B[48;2;255;84;74m\u001B[49m         │ \u001B[48;2;247;64;16m\u001B[49m         │ \u001B[48;2;255;84;74m\u001B[49m         │\n",
      "├───────────┼──────────┼──────────┼──────────┼──────────┤\n",
      "│ -6 = 1010 │ \u001B[48;2;172;192;0m\u001B[49m         │ \u001B[48;2;255;117;115m\u001B[49m         │ \u001B[48;2;248;56;39m\u001B[49m         │ \u001B[48;2;255;117;115m\u001B[49m         │\n",
      "├───────────┼──────────┼──────────┼──────────┼──────────┤\n",
      "│ -7 = 1001 │ \u001B[48;2;209;205;0m\u001B[49m         │ \u001B[48;2;255;148;158m\u001B[49m         │ \u001B[48;2;255;84;74m\u001B[49m         │ \u001B[48;2;255;148;158m\u001B[49m         │\n",
      "├───────────┼──────────┼──────────┼──────────┼──────────┤\n",
      "│ -8 = 1000 │ \u001B[48;2;239;208;0m\u001B[49m         │ \u001B[48;2;255;175;202m\u001B[49m         │ \u001B[48;2;255;117;115m\u001B[49m         │ \u001B[48;2;255;175;202m\u001B[49m         │\n",
      "╘═══════════╧══════════╧══════════╧══════════╧══════════╛\n"
     ]
    }
   ],
   "execution_count": 33
  }
 ],
 "metadata": {
  "kernelspec": {
   "display_name": "Python 3 (ipykernel)",
   "language": "python",
   "name": "python3"
  },
  "language_info": {
   "codemirror_mode": {
    "name": "ipython",
    "version": 3
   },
   "file_extension": ".py",
   "mimetype": "text/x-python",
   "name": "python",
   "nbconvert_exporter": "python",
   "pygments_lexer": "ipython3",
   "version": "3.9.13"
  }
 },
 "nbformat": 4,
 "nbformat_minor": 5
}
